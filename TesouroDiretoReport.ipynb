{
  "nbformat": 4,
  "nbformat_minor": 0,
  "metadata": {
    "colab": {
      "name": "TesouroDiretoReport.ipynb",
      "provenance": [],
      "collapsed_sections": [],
      "authorship_tag": "ABX9TyN51/DNA2lI6HtBOCzjExz5",
      "include_colab_link": true
    },
    "kernelspec": {
      "display_name": "Python 3",
      "name": "python3"
    },
    "language_info": {
      "name": "python"
    }
  },
  "cells": [
    {
      "cell_type": "markdown",
      "metadata": {
        "id": "view-in-github",
        "colab_type": "text"
      },
      "source": [
        "<a href=\"https://colab.research.google.com/github/VctrEman/tesourodireto/blob/main/TesouroDiretoReport.ipynb\" target=\"_parent\"><img src=\"https://colab.research.google.com/assets/colab-badge.svg\" alt=\"Open In Colab\"/></a>"
      ]
    },
    {
      "cell_type": "code",
      "metadata": {
        "colab": {
          "base_uri": "https://localhost:8080/"
        },
        "id": "KReBQWvnSkwN",
        "outputId": "d5932ea8-89a8-4762-8704-e0984c429254"
      },
      "source": [
        "!pip install pretty_html_table\n",
        "\n",
        "import pandas as pd\n",
        "import requests\n",
        "from datetime import timedelta\n",
        "import smtplib\n",
        "from pretty_html_table import build_table\n",
        "from email.mime.multipart import MIMEMultipart\n",
        "from email.mime.text import MIMEText        \n",
        "from email.mime.base import MIMEBase        #biblioteca nao utilizada, avaliar\n",
        "from email import encoders                  #biblioteca nao utilizada, avaliar\n",
        "import email.message                        #biblioteca nao utilizada, avaliar"
      ],
      "execution_count": null,
      "outputs": [
        {
          "output_type": "stream",
          "name": "stdout",
          "text": [
            "Collecting pretty_html_table\n",
            "  Downloading pretty_html_table-0.9.14-py3-none-any.whl (6.1 kB)\n",
            "Requirement already satisfied: pandas in /usr/local/lib/python3.7/dist-packages (from pretty_html_table) (1.1.5)\n",
            "Requirement already satisfied: numpy>=1.15.4 in /usr/local/lib/python3.7/dist-packages (from pandas->pretty_html_table) (1.19.5)\n",
            "Requirement already satisfied: pytz>=2017.2 in /usr/local/lib/python3.7/dist-packages (from pandas->pretty_html_table) (2018.9)\n",
            "Requirement already satisfied: python-dateutil>=2.7.3 in /usr/local/lib/python3.7/dist-packages (from pandas->pretty_html_table) (2.8.2)\n",
            "Requirement already satisfied: six>=1.5 in /usr/local/lib/python3.7/dist-packages (from python-dateutil>=2.7.3->pandas->pretty_html_table) (1.15.0)\n",
            "Installing collected packages: pretty-html-table\n",
            "Successfully installed pretty-html-table-0.9.14\n"
          ]
        }
      ]
    },
    {
      "cell_type": "code",
      "metadata": {
        "id": "UEY_YKCQdtA2"
      },
      "source": [
        "def GetOauth():             \n",
        "    #Requests authorization response to to enter on Google\n",
        "    payload =  \"\"\"{\\r\\n\\\"client_secret\\\":\\\"\\\",\n",
        "            \\r\\n\\\"grant_type\\\": \\\"refresh_token\\\",\n",
        "            \\r\\n\\\"refresh_token\\\":\\\"1//aw\\\",\n",
        "            \\r\\n\\\"client_id\\\":\\\"apps.googleusercontent.com\\\"\\r\\n}\n",
        "            \\r\\n\"\"\"\n",
        "    headers = {'Content-Type': 'text/plain'}\n",
        "    \n",
        "    response = requests.request(\"POST\",\"https://accounts.google.com/o/oauth2/token\", headers= headers, data=payload).json()\n",
        "    return response['access_token']\n",
        "\n",
        "def get_google_sheet_df(headers: dict, google_sheet_id: str, sheet_name: str, _range: str):\n",
        "    #Requests data from Google Sheets API\n",
        "    url = f'https://sheets.googleapis.com/v4/spreadsheets/{google_sheet_id}/values/{sheet_name}!{_range}'\n",
        "    r = requests.get(url, headers=headers)\n",
        "    values = r.json()['values']\n",
        "    df = pd.DataFrame(values[1:])\n",
        "    df.columns = values[0]\n",
        "    return df\n",
        "\n",
        "def main_request():\n",
        "    headers = {'Authorization': \"Bearer \"+GetOauth(),'Content-Type': 'application/vnd.api+json'}\n",
        "    google_sheet_id = '1yXhAFxsaSb_X1WTPgUodswv8OZ0cHnXAqjTVFUS3lWs'\n",
        "    sheet_name = 'Sheet1'\n",
        "    sample_range = 'A:M'\n",
        "\n",
        "    dfgsheets = get_google_sheet_df(headers, google_sheet_id, sheet_name, sample_range)  #request do gsheets\n",
        "    return dfgsheets\n",
        "\n",
        "def tabela_acimadameta(): #JESSE\n",
        "    df = main_request()\n",
        "    df['Refresh Date'] = df['Refresh Date'].astype('datetime64[ns]')\n",
        "    df['Taxa de Juros'] = df['Taxa de Juros'].astype(float)\n",
        "\n",
        "    tx_juros = df.pivot_table(values='Taxa de Juros', index='Refresh Date', columns='codigo', aggfunc='last')\n",
        "    dataref = (tx_juros.iloc[[-1]].index - timedelta(hours=3)).strftime(\"%d/%m/%Y %H:%M:%S\")[0] \n",
        "    w = 14\n",
        "    titulos_acima_meta = []\n",
        "    taxas_acima_meta = []\n",
        "    vlmeta = []\n",
        "    for column in tx_juros:\n",
        "        sigma_tx_juros = (tx_juros[ column ].rolling(window= w ).mean() + tx_juros[ column ].rolling(window= w ).std()*(1.5))[-1]\n",
        "        today_tx_juros = tx_juros[ column ].iloc[[-1]].values  \n",
        "        if sigma_tx_juros <= today_tx_juros: \n",
        "            titulos_acima_meta += [column]\n",
        "            vlmeta += [sigma_tx_juros]\n",
        "            taxas_acima_meta   += [tx_juros[column][-1]]\n",
        "\n",
        "    list(zip(titulos_acima_meta, vlmeta, taxas_acima_meta))\n",
        "    new_df = pd.DataFrame(data={'codigo': titulos_acima_meta, 'valor atual': taxas_acima_meta, 'valor critério': vlmeta})\n",
        "    new_df['nome'] = new_df['codigo'].apply(lambda x: df[df['codigo'] == x]['Titulo'].values[0])\n",
        "    return new_df, dataref\n",
        "\n",
        "def send_email(dataframe, now): #FERNANDO\n",
        "    \n",
        "    recipients=[\"rotcivemanuelms@gmail.com\",\"rotcivemanuelms@alu.ufc.br\",\"fernandimfares@gmail.com\",\"jessenl@alu.ufc.br\",\"datasciencereposting@gmail.com\"]\n",
        "    destino = ' ,'.join(recipients)\n",
        "    host=\"smtp.gmail.com\"\n",
        "    port=\"587\"\n",
        "    login='datasciencereposting@gmail.com'\n",
        "    senha='cfdxivsntbaossci'\n",
        "    server=smtplib.SMTP(host,port)\n",
        "    server.ehlo()\n",
        "    server.starttls()\n",
        "    server.login(login,senha)\n",
        "    corpo = f\"\"\"\n",
        "        <p>Bom dia!!! Hoje é um ótimo dia para comprar títulos da tabela abaixo</p> Atualizado em: {now} </p> Aproveite essa oportunidade em: https://www.tesourodireto.com.br/ </p>\n",
        "            \"\"\"\n",
        "    email_msg=MIMEMultipart()\n",
        "    email_msg['From']=login\n",
        "    email_msg['To']= destino\n",
        "    email_msg['Subject']='NOTIFICAÇÃO DE COMPRA DE TÍTULO'\n",
        "    email_msg.attach(MIMEText(corpo,'html'))\n",
        "    output=build_table( dataframe ,\"blue_dark\",font_size='medium',font_family='Open Sans, sans-serif',text_align='center',width='auto',index=False,even_color='black',even_bg_color='white')\n",
        "    email_msg.attach(MIMEText(output,'html'))\n",
        "    server.sendmail(email_msg['From'], email_msg['To'].split(\",\"), email_msg.as_string())\n",
        "    server.quit()"
      ],
      "execution_count": null,
      "outputs": []
    },
    {
      "cell_type": "code",
      "metadata": {
        "colab": {
          "base_uri": "https://localhost:8080/"
        },
        "id": "15nzPQY_gENw",
        "outputId": "f91c7e97-c594-4c79-c9de-d4ff0a2713ac"
      },
      "source": [
        "#from email_libs import *\n",
        "\n",
        "dataframe, now = tabela_acimadameta()\n",
        "if dataframe.shape[0] > 0:\n",
        "    send_email(dataframe, now)\n",
        "    print('email sent succesfully')\n",
        "else:\n",
        "    print('no')"
      ],
      "execution_count": null,
      "outputs": [
        {
          "output_type": "stream",
          "name": "stdout",
          "text": [
            "no\n"
          ]
        }
      ]
    },
    {
      "cell_type": "code",
      "metadata": {
        "colab": {
          "base_uri": "https://localhost:8080/"
        },
        "id": "Kj5gfwrm3lUm",
        "outputId": "c68691e0-b34c-47f8-cc26-312a2d0c4697"
      },
      "source": [
        "#vectorized version 1.5s\n",
        "def create_table():\n",
        "    df = main_request()\n",
        "    w = 14\n",
        "    df['Refresh Date'] = df['Refresh Date'].astype('datetime64[ns]')\n",
        "    df['Taxa de Juros'] = df['Taxa de Juros'].astype(float)\n",
        "    df['Data Vencimento'] = df['Data Vencimento'].astype('datetime64[ns]').dt.strftime(\"%d/%m/%Y\")\n",
        "\n",
        "    tx_juros = df.pivot_table(values='Taxa de Juros', index='Refresh Date', columns='codigo', aggfunc='last')\n",
        "    sigma_tx_juros = (tx_juros.rolling(window= w ).mean() + tx_juros.rolling(window= w ).std()*(1.5)).iloc[[-1]]\n",
        "    today_tx_juros = tx_juros.iloc[[-1]]\n",
        "    dataref = (df['Refresh Date'].iloc[[-1]]).item()\n",
        "    now = dataref - timedelta(hours=3)\n",
        "\n",
        "    df_new = df[['Titulo', 'Valor minimo', 'Taxa de Juros','Data Vencimento']].loc[ (df['Refresh Date'] == dataref ) & \\\n",
        "            (df.codigo.isin(\\\n",
        "            tx_juros[ tx_juros.iloc[[-1]].where(sigma_tx_juros <  today_tx_juros ).dropna(axis = 1).columns].iloc[[-1]].columns))]\n",
        "    return df_new, now, sigma_tx_juros\n",
        "create_table()"
      ],
      "execution_count": null,
      "outputs": [
        {
          "output_type": "execute_result",
          "data": {
            "text/plain": [
              "(Empty DataFrame\n",
              " Columns: [Titulo, Valor minimo, Taxa de Juros, Data Vencimento]\n",
              " Index: [],\n",
              " Timestamp('2021-10-24 09:45:17'),\n",
              " codigo                    138       160  ...       172        173\n",
              " Refresh Date                             ...                     \n",
              " 2021-10-24 12:45:17  5.393195  5.393195  ...  0.268904  11.597942\n",
              " \n",
              " [1 rows x 11 columns])"
            ]
          },
          "metadata": {},
          "execution_count": 9
        }
      ]
    },
    {
      "cell_type": "code",
      "metadata": {
        "id": "WXYOI5dCptaA"
      },
      "source": [
        "pd.concat([df1, df4], axis=1)  #adicionar valor meta"
      ],
      "execution_count": null,
      "outputs": []
    }
  ]
}